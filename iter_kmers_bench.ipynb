{
 "cells": [
  {
   "cell_type": "code",
   "execution_count": 1,
   "metadata": {
    "collapsed": false
   },
   "outputs": [],
   "source": [
    "from skbio import Sequence\n",
    "import numpy as np\n",
    "\n",
    "seq_bytes = np.array(np.random.choice([65, 67, 71, 84], size=10000), dtype=np.uint8)\n",
    "seq_str = seq_bytes.tostring()\n",
    "seq_np_str = np.fromstring(seq_str, dtype='|S1')\n",
    "\n",
    "seq = Sequence(seq_bytes)\n",
    "seq_md = Sequence(seq_bytes, metadata={'id': 'id'})\n",
    "seq_pos_md = Sequence(seq_bytes, positional_metadata={'quality': range(len(seq_bytes))})\n",
    "\n",
    "def consume_generator(gen):\n",
    "    for _ in gen:\n",
    "        pass\n",
    "    \n",
    "NUM_ITER = 25"
   ]
  },
  {
   "cell_type": "markdown",
   "metadata": {},
   "source": [
    "# After Optimizations"
   ]
  },
  {
   "cell_type": "code",
   "execution_count": 2,
   "metadata": {
    "collapsed": false
   },
   "outputs": [
    {
     "name": "stdout",
     "output_type": "stream",
     "text": [
      "10 loops, best of 3: 45.2 ms per loop\n"
     ]
    }
   ],
   "source": [
    "%timeit consume_generator(seq.iter_kmers(NUM_ITER))"
   ]
  },
  {
   "cell_type": "code",
   "execution_count": 3,
   "metadata": {
    "collapsed": false
   },
   "outputs": [
    {
     "name": "stdout",
     "output_type": "stream",
     "text": [
      "10 loops, best of 3: 55.2 ms per loop\n"
     ]
    }
   ],
   "source": [
    "%timeit consume_generator(seq_md.iter_kmers(NUM_ITER))"
   ]
  },
  {
   "cell_type": "code",
   "execution_count": 4,
   "metadata": {
    "collapsed": false
   },
   "outputs": [
    {
     "name": "stdout",
     "output_type": "stream",
     "text": [
      "1 loops, best of 3: 2.26 s per loop\n"
     ]
    }
   ],
   "source": [
    "%timeit consume_generator(seq_pos_md.iter_kmers(NUM_ITER))"
   ]
  },
  {
   "cell_type": "markdown",
   "metadata": {},
   "source": [
    "# Master"
   ]
  },
  {
   "cell_type": "code",
   "execution_count": 2,
   "metadata": {
    "collapsed": false
   },
   "outputs": [
    {
     "name": "stdout",
     "output_type": "stream",
     "text": [
      "10 loops, best of 3: 53.7 ms per loop\n"
     ]
    }
   ],
   "source": [
    "%timeit consume_generator(seq.iter_kmers(NUM_ITER))"
   ]
  },
  {
   "cell_type": "code",
   "execution_count": 3,
   "metadata": {
    "collapsed": false
   },
   "outputs": [
    {
     "name": "stdout",
     "output_type": "stream",
     "text": [
      "10 loops, best of 3: 61.2 ms per loop\n"
     ]
    }
   ],
   "source": [
    "%timeit consume_generator(seq_md.iter_kmers(NUM_ITER))"
   ]
  },
  {
   "cell_type": "code",
   "execution_count": 4,
   "metadata": {
    "collapsed": false
   },
   "outputs": [
    {
     "name": "stdout",
     "output_type": "stream",
     "text": [
      "1 loops, best of 3: 2.23 s per loop\n"
     ]
    }
   ],
   "source": [
    "%timeit consume_generator(seq_pos_md.iter_kmers(NUM_ITER))"
   ]
  }
 ],
 "metadata": {
  "kernelspec": {
   "display_name": "Python 2",
   "language": "python",
   "name": "python2"
  },
  "language_info": {
   "codemirror_mode": {
    "name": "ipython",
    "version": 2
   },
   "file_extension": ".py",
   "mimetype": "text/x-python",
   "name": "python",
   "nbconvert_exporter": "python",
   "pygments_lexer": "ipython2",
   "version": "2.7.10"
  }
 },
 "nbformat": 4,
 "nbformat_minor": 0
}
